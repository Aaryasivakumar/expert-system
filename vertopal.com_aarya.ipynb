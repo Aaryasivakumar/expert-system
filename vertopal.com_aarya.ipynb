{
 "cells": [
  {
   "cell_type": "markdown",
   "metadata": {},
   "source": [
    "G= int(input(“Grade:”)) D,I,A,T= input(“Enter four values:”).split()\n",
    "print(“Grade:”, G) print(“Discipline:”, D) print(“Internal:”, I)\n",
    "print(“Assignment:” , A) print(“Test performance:”, T) if((G\\>=80) and\n",
    "(D==“yes”) and (I==“yes”) and (A==“yes”) and (T==“yes”)):\n",
    "print(“Distinction”) elif((G\\>=60) and (D==“yes”) and (I==“yes”) and\n",
    "(A==“no”) and (T==“no”)): print(“Good”) elif((G\\<=40) and (D==“yes”) and\n",
    "(I==“yes”) and (A==“no”) and (T==“no”)): print(“Below average”)\n",
    "elif((G\\<60) and (D==“yes”) and (I==“yes”) and (A==“yes”) and\n",
    "(T==“yes”)): print(“Average”)"
   ]
  }
 ],
 "nbformat": 4,
 "nbformat_minor": 5,
 "metadata": {}
}
